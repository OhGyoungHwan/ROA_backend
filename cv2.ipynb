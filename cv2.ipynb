{
 "cells": [
  {
   "cell_type": "code",
   "execution_count": null,
   "metadata": {},
   "outputs": [],
   "source": [
    "import pytesseract\n",
    "import cv2 \n",
    "import matplotlib.pyplot as plt\n",
    "import imutils\n",
    "import re\n",
    "import requests\n",
    "import numpy as np\n",
    "from imutils.perspective import four_point_transform\n",
    "\n",
    "\n",
    "\n",
    "url = 'https://upload3.inven.co.kr/upload/2022/11/17/bbs/i14588467421.png?MW=800'\n",
    "path = './in3.png'\n",
    "image = cv2.imread(path)\n",
    "\n",
    "image_nparray = np.asarray(bytearray(requests.get(url).content), dtype=np.uint8)\n",
    "org_image = cv2.imdecode(image_nparray, cv2.IMREAD_COLOR) \n",
    "\n",
    "rgb_image = cv2.cvtColor(org_image, cv2.COLOR_BGR2RGB)\n",
    "\n",
    "gray = cv2.cvtColor(org_image, cv2.COLOR_BGR2GRAY)\n",
    "\n",
    "blurred = cv2.GaussianBlur(gray, (5, 5,), 0)\n",
    "\n",
    "gray_image = cv2.cvtColor(org_image, cv2.COLOR_RGB2GRAY)\n",
    "\n",
    "# RGB이미지를 흑백이미지로 변환\n",
    "binary_image = cv2.threshold(gray_image,100,255,cv2.THRESH_BINARY | cv2.THRESH_OTSU)[1]\n",
    "\n",
    "removenoise_image = cv2.medianBlur(binary_image,ksize=1)\n",
    "plt.imshow(org_image)\n",
    "text = pytesseract.image_to_string(removenoise_image, lang='kor', config= \"--psm 6\")\n",
    "print(text)"
   ]
  }
 ],
 "metadata": {
  "kernelspec": {
   "display_name": "Python 3.10.0 64-bit",
   "language": "python",
   "name": "python3"
  },
  "language_info": {
   "name": "python",
   "version": "3.10.0"
  },
  "orig_nbformat": 4,
  "vscode": {
   "interpreter": {
    "hash": "b7c61706ad2c3b9efa7752a4ea154e62c6be7159d6e1f648aedfc021d6cca09f"
   }
  }
 },
 "nbformat": 4,
 "nbformat_minor": 2
}
