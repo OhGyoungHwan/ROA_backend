{
 "cells": [
  {
   "cell_type": "code",
   "execution_count": 1,
   "metadata": {},
   "outputs": [],
   "source": [
    "import json\n",
    "import pandas as pd\n",
    "csv_data = pd.read_csv(\"./data/csv/availableoption.csv\", sep = \",\", dtype=str)\n",
    "json_data = json.loads(csv_data.to_json(orient = \"records\",force_ascii=False))\n",
    "temp = []\n",
    "for data in json_data:\n",
    "    temp.append({key: value for key, value in data.items() if value != None})\n",
    "\n",
    "f = open(\"./data/json/availableoption.json\",'w',encoding=\"UTF_8\")\n",
    "f.write(str(temp))\n",
    "f.close()"
   ]
  }
 ],
 "metadata": {
  "kernelspec": {
   "display_name": "Python 3",
   "language": "python",
   "name": "python3"
  },
  "language_info": {
   "codemirror_mode": {
    "name": "ipython",
    "version": 3
   },
   "file_extension": ".py",
   "mimetype": "text/x-python",
   "name": "python",
   "nbconvert_exporter": "python",
   "pygments_lexer": "ipython3",
   "version": "3.9.13 (tags/v3.9.13:6de2ca5, May 17 2022, 16:36:42) [MSC v.1929 64 bit (AMD64)]"
  },
  "orig_nbformat": 4,
  "vscode": {
   "interpreter": {
    "hash": "94c0f7e0d693d226c84bb4d5a64add886c534156ba90ea1e611147d4a4c128aa"
   }
  }
 },
 "nbformat": 4,
 "nbformat_minor": 2
}
