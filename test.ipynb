{
 "cells": [
  {
   "cell_type": "code",
   "execution_count": 1,
   "metadata": {},
   "outputs": [
    {
     "name": "stdout",
     "output_type": "stream",
     "text": [
      "      종류 희귀도     힘  활과쇠뇌기술                 화염피해추가  화염저항  화염기술  홈있음   함성  피해감소  \\\n",
      "0     주얼  레어   9.0     NaN                  25-50    30   NaN  NaN  NaN   NaN   \n",
      "1     주얼  매직   9.0     NaN                  25-50    30   NaN  NaN  NaN   NaN   \n",
      "2   작은부적  매직   2.0     NaN       7-13|19-29|26-42    11   NaN  NaN  NaN   NaN   \n",
      "3   거대부적  매직   6.0     1.0       7-14|18-36|25|50    30   1.0  NaN  1.0   NaN   \n",
      "4     단도  레어  15.0     NaN  20-75|170-240|190-315    30   NaN  2.0  NaN   NaN   \n",
      "..   ...  ..   ...     ...                    ...   ...   ...  ...  ...   ...   \n",
      "63  팔라방패  매직   9.0     NaN                    NaN    30   NaN  4.0  NaN  25.0   \n",
      "64    반지  레어  20.0     NaN                    1-6    30   NaN  NaN  NaN   2.0   \n",
      "65    반지  매직  20.0     NaN                    1-6    30   NaN  NaN  NaN   2.0   \n",
      "66   목걸이  레어  20.0     NaN                    1-6    40   2.0  NaN  2.0   4.0   \n",
      "67   목걸이  매직  20.0     NaN                    1-6    40   3.0  NaN  3.0  25.0   \n",
      "\n",
      "    ... 냉기기술  내구도회복  그림자단련  괴물에게서얻는금화증가  공격자가피해를받음  공격오라 공격시시전  공격속도 강령술사기술레벨  \\\n",
      "0   ...  NaN    NaN    NaN         30.0        5.0   NaN   NaN   NaN      NaN   \n",
      "1   ...  NaN    NaN    NaN         30.0        5.0   NaN   NaN  15.0      NaN   \n",
      "2   ...  NaN    NaN    NaN         10.0        NaN   NaN   NaN   NaN      NaN   \n",
      "3   ...  1.0    NaN    1.0         40.0        NaN   1.0   NaN   NaN      NaN   \n",
      "4   ...  NaN    1.0    NaN          NaN        NaN   NaN   1.0  40.0      2.0   \n",
      "..  ...  ...    ...    ...          ...        ...   ...   ...   ...      ...   \n",
      "63  ...  NaN    1.0    NaN          NaN        NaN   3.0   NaN   NaN      NaN   \n",
      "64  ...  NaN    NaN    NaN         40.0        NaN   NaN   NaN   NaN      NaN   \n",
      "65  ...  NaN    NaN    NaN         40.0        NaN   NaN   NaN   NaN      NaN   \n",
      "66  ...  2.0    NaN    2.0         80.0        NaN   2.0   NaN   NaN      2.0   \n",
      "67  ...  3.0    NaN    3.0         80.0        NaN   3.0   NaN   NaN      2.0   \n",
      "\n",
      "   레벨충천회  \n",
      "0    NaN  \n",
      "1    NaN  \n",
      "2    NaN  \n",
      "3    NaN  \n",
      "4    1.0  \n",
      "..   ...  \n",
      "63   1.0  \n",
      "64   1.0  \n",
      "65   1.0  \n",
      "66   1.0  \n",
      "67   1.0  \n",
      "\n",
      "[68 rows x 97 columns]\n"
     ]
    }
   ],
   "source": [
    "import pandas as pd\n",
    "\n",
    "df = pd.read_csv('./csv/maximumoption.csv')\n",
    "print (df)"
   ]
  }
 ],
 "metadata": {
  "kernelspec": {
   "display_name": "Python 3.10.0 64-bit",
   "language": "python",
   "name": "python3"
  },
  "language_info": {
   "codemirror_mode": {
    "name": "ipython",
    "version": 3
   },
   "file_extension": ".py",
   "mimetype": "text/x-python",
   "name": "python",
   "nbconvert_exporter": "python",
   "pygments_lexer": "ipython3",
   "version": "3.10.0"
  },
  "orig_nbformat": 4,
  "vscode": {
   "interpreter": {
    "hash": "b7c61706ad2c3b9efa7752a4ea154e62c6be7159d6e1f648aedfc021d6cca09f"
   }
  }
 },
 "nbformat": 4,
 "nbformat_minor": 2
}
